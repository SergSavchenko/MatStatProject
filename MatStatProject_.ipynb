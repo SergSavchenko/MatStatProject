{
 "cells": [
  {
   "cell_type": "code",
   "execution_count": 1,
   "metadata": {},
   "outputs": [],
   "source": [
    "import pandas as pd\n",
    "import numpy as np\n",
    "import matplotlib.pyplot as plt\n",
    "import seaborn as sns\n",
    "import math"
   ]
  },
  {
   "cell_type": "code",
   "execution_count": 2,
   "metadata": {
    "scrolled": true
   },
   "outputs": [
    {
     "name": "stderr",
     "output_type": "stream",
     "text": [
      "c:\\users\\user\\appdata\\local\\programs\\python\\python37-32\\lib\\site-packages\\IPython\\core\\interactiveshell.py:3044: DtypeWarning: Columns (5,9) have mixed types. Specify dtype option on import or set low_memory=False.\n",
      "  interactivity=interactivity, compiler=compiler, result=result)\n"
     ]
    }
   ],
   "source": [
    "data = pd.read_csv(\"scrubbed.csv\",sep=',')"
   ]
  },
  {
   "cell_type": "code",
   "execution_count": 3,
   "metadata": {},
   "outputs": [
    {
     "name": "stdout",
     "output_type": "stream",
     "text": [
      "<class 'pandas.core.frame.DataFrame'>\n",
      "RangeIndex: 80332 entries, 0 to 80331\n",
      "Data columns (total 11 columns):\n",
      "datetime                80332 non-null object\n",
      "city                    80332 non-null object\n",
      "state                   74535 non-null object\n",
      "country                 70662 non-null object\n",
      "shape                   78400 non-null object\n",
      "duration (seconds)      80332 non-null object\n",
      "duration (hours/min)    80332 non-null object\n",
      "comments                80317 non-null object\n",
      "date posted             80332 non-null object\n",
      "latitude                80332 non-null object\n",
      "longitude               80332 non-null float64\n",
      "dtypes: float64(1), object(10)\n",
      "memory usage: 3.7+ MB\n"
     ]
    }
   ],
   "source": [
    "data.info()"
   ]
  },
  {
   "cell_type": "code",
   "execution_count": 4,
   "metadata": {},
   "outputs": [
    {
     "data": {
      "text/html": [
       "<div>\n",
       "<style scoped>\n",
       "    .dataframe tbody tr th:only-of-type {\n",
       "        vertical-align: middle;\n",
       "    }\n",
       "\n",
       "    .dataframe tbody tr th {\n",
       "        vertical-align: top;\n",
       "    }\n",
       "\n",
       "    .dataframe thead th {\n",
       "        text-align: right;\n",
       "    }\n",
       "</style>\n",
       "<table border=\"1\" class=\"dataframe\">\n",
       "  <thead>\n",
       "    <tr style=\"text-align: right;\">\n",
       "      <th></th>\n",
       "      <th>datetime</th>\n",
       "      <th>city</th>\n",
       "      <th>state</th>\n",
       "      <th>country</th>\n",
       "      <th>shape</th>\n",
       "      <th>duration (seconds)</th>\n",
       "      <th>duration (hours/min)</th>\n",
       "      <th>comments</th>\n",
       "      <th>date posted</th>\n",
       "      <th>latitude</th>\n",
       "      <th>longitude</th>\n",
       "    </tr>\n",
       "  </thead>\n",
       "  <tbody>\n",
       "    <tr>\n",
       "      <th>0</th>\n",
       "      <td>10/10/1949 20:30</td>\n",
       "      <td>san marcos</td>\n",
       "      <td>tx</td>\n",
       "      <td>us</td>\n",
       "      <td>cylinder</td>\n",
       "      <td>2700</td>\n",
       "      <td>45 minutes</td>\n",
       "      <td>This event took place in early fall around 194...</td>\n",
       "      <td>4/27/2004</td>\n",
       "      <td>29.8830556</td>\n",
       "      <td>-97.941111</td>\n",
       "    </tr>\n",
       "    <tr>\n",
       "      <th>1</th>\n",
       "      <td>10/10/1949 21:00</td>\n",
       "      <td>lackland afb</td>\n",
       "      <td>tx</td>\n",
       "      <td>NaN</td>\n",
       "      <td>light</td>\n",
       "      <td>7200</td>\n",
       "      <td>1-2 hrs</td>\n",
       "      <td>1949 Lackland AFB&amp;#44 TX.  Lights racing acros...</td>\n",
       "      <td>12/16/2005</td>\n",
       "      <td>29.38421</td>\n",
       "      <td>-98.581082</td>\n",
       "    </tr>\n",
       "    <tr>\n",
       "      <th>2</th>\n",
       "      <td>10/10/1955 17:00</td>\n",
       "      <td>chester (uk/england)</td>\n",
       "      <td>NaN</td>\n",
       "      <td>gb</td>\n",
       "      <td>circle</td>\n",
       "      <td>20</td>\n",
       "      <td>20 seconds</td>\n",
       "      <td>Green/Orange circular disc over Chester&amp;#44 En...</td>\n",
       "      <td>1/21/2008</td>\n",
       "      <td>53.2</td>\n",
       "      <td>-2.916667</td>\n",
       "    </tr>\n",
       "    <tr>\n",
       "      <th>3</th>\n",
       "      <td>10/10/1956 21:00</td>\n",
       "      <td>edna</td>\n",
       "      <td>tx</td>\n",
       "      <td>us</td>\n",
       "      <td>circle</td>\n",
       "      <td>20</td>\n",
       "      <td>1/2 hour</td>\n",
       "      <td>My older brother and twin sister were leaving ...</td>\n",
       "      <td>1/17/2004</td>\n",
       "      <td>28.9783333</td>\n",
       "      <td>-96.645833</td>\n",
       "    </tr>\n",
       "    <tr>\n",
       "      <th>4</th>\n",
       "      <td>10/10/1960 20:00</td>\n",
       "      <td>kaneohe</td>\n",
       "      <td>hi</td>\n",
       "      <td>us</td>\n",
       "      <td>light</td>\n",
       "      <td>900</td>\n",
       "      <td>15 minutes</td>\n",
       "      <td>AS a Marine 1st Lt. flying an FJ4B fighter/att...</td>\n",
       "      <td>1/22/2004</td>\n",
       "      <td>21.4180556</td>\n",
       "      <td>-157.803611</td>\n",
       "    </tr>\n",
       "  </tbody>\n",
       "</table>\n",
       "</div>"
      ],
      "text/plain": [
       "           datetime                  city state country     shape  \\\n",
       "0  10/10/1949 20:30            san marcos    tx      us  cylinder   \n",
       "1  10/10/1949 21:00          lackland afb    tx     NaN     light   \n",
       "2  10/10/1955 17:00  chester (uk/england)   NaN      gb    circle   \n",
       "3  10/10/1956 21:00                  edna    tx      us    circle   \n",
       "4  10/10/1960 20:00               kaneohe    hi      us     light   \n",
       "\n",
       "  duration (seconds) duration (hours/min)  \\\n",
       "0               2700           45 minutes   \n",
       "1               7200              1-2 hrs   \n",
       "2                 20           20 seconds   \n",
       "3                 20             1/2 hour   \n",
       "4                900           15 minutes   \n",
       "\n",
       "                                            comments date posted    latitude  \\\n",
       "0  This event took place in early fall around 194...   4/27/2004  29.8830556   \n",
       "1  1949 Lackland AFB&#44 TX.  Lights racing acros...  12/16/2005    29.38421   \n",
       "2  Green/Orange circular disc over Chester&#44 En...   1/21/2008        53.2   \n",
       "3  My older brother and twin sister were leaving ...   1/17/2004  28.9783333   \n",
       "4  AS a Marine 1st Lt. flying an FJ4B fighter/att...   1/22/2004  21.4180556   \n",
       "\n",
       "   longitude   \n",
       "0  -97.941111  \n",
       "1  -98.581082  \n",
       "2   -2.916667  \n",
       "3  -96.645833  \n",
       "4 -157.803611  "
      ]
     },
     "execution_count": 4,
     "metadata": {},
     "output_type": "execute_result"
    }
   ],
   "source": [
    "data.head()"
   ]
  },
  {
   "cell_type": "code",
   "execution_count": 8,
   "metadata": {},
   "outputs": [],
   "source": [
    "us_list = []\n",
    "i=0\n",
    "while len(us_list)<10000:\n",
    "    if data['country'][i]=='us':\n",
    "        us_list.append(i)\n",
    "    i+=1"
   ]
  },
  {
   "cell_type": "code",
   "execution_count": 10,
   "metadata": {},
   "outputs": [
    {
     "data": {
      "text/plain": [
       "10000"
      ]
     },
     "execution_count": 10,
     "metadata": {},
     "output_type": "execute_result"
    }
   ],
   "source": [
    "len(us_list)"
   ]
  },
  {
   "cell_type": "code",
   "execution_count": 12,
   "metadata": {},
   "outputs": [],
   "source": [
    "data_with_us = data.loc[us_list]"
   ]
  },
  {
   "cell_type": "code",
   "execution_count": 13,
   "metadata": {},
   "outputs": [
    {
     "data": {
      "text/html": [
       "<div>\n",
       "<style scoped>\n",
       "    .dataframe tbody tr th:only-of-type {\n",
       "        vertical-align: middle;\n",
       "    }\n",
       "\n",
       "    .dataframe tbody tr th {\n",
       "        vertical-align: top;\n",
       "    }\n",
       "\n",
       "    .dataframe thead th {\n",
       "        text-align: right;\n",
       "    }\n",
       "</style>\n",
       "<table border=\"1\" class=\"dataframe\">\n",
       "  <thead>\n",
       "    <tr style=\"text-align: right;\">\n",
       "      <th></th>\n",
       "      <th>datetime</th>\n",
       "      <th>city</th>\n",
       "      <th>state</th>\n",
       "      <th>country</th>\n",
       "      <th>shape</th>\n",
       "      <th>duration (seconds)</th>\n",
       "      <th>duration (hours/min)</th>\n",
       "      <th>comments</th>\n",
       "      <th>date posted</th>\n",
       "      <th>latitude</th>\n",
       "      <th>longitude</th>\n",
       "    </tr>\n",
       "  </thead>\n",
       "  <tbody>\n",
       "    <tr>\n",
       "      <th>0</th>\n",
       "      <td>10/10/1949 20:30</td>\n",
       "      <td>san marcos</td>\n",
       "      <td>tx</td>\n",
       "      <td>us</td>\n",
       "      <td>cylinder</td>\n",
       "      <td>2700</td>\n",
       "      <td>45 minutes</td>\n",
       "      <td>This event took place in early fall around 194...</td>\n",
       "      <td>4/27/2004</td>\n",
       "      <td>29.8830556</td>\n",
       "      <td>-97.941111</td>\n",
       "    </tr>\n",
       "    <tr>\n",
       "      <th>3</th>\n",
       "      <td>10/10/1956 21:00</td>\n",
       "      <td>edna</td>\n",
       "      <td>tx</td>\n",
       "      <td>us</td>\n",
       "      <td>circle</td>\n",
       "      <td>20</td>\n",
       "      <td>1/2 hour</td>\n",
       "      <td>My older brother and twin sister were leaving ...</td>\n",
       "      <td>1/17/2004</td>\n",
       "      <td>28.9783333</td>\n",
       "      <td>-96.645833</td>\n",
       "    </tr>\n",
       "    <tr>\n",
       "      <th>4</th>\n",
       "      <td>10/10/1960 20:00</td>\n",
       "      <td>kaneohe</td>\n",
       "      <td>hi</td>\n",
       "      <td>us</td>\n",
       "      <td>light</td>\n",
       "      <td>900</td>\n",
       "      <td>15 minutes</td>\n",
       "      <td>AS a Marine 1st Lt. flying an FJ4B fighter/att...</td>\n",
       "      <td>1/22/2004</td>\n",
       "      <td>21.4180556</td>\n",
       "      <td>-157.803611</td>\n",
       "    </tr>\n",
       "    <tr>\n",
       "      <th>5</th>\n",
       "      <td>10/10/1961 19:00</td>\n",
       "      <td>bristol</td>\n",
       "      <td>tn</td>\n",
       "      <td>us</td>\n",
       "      <td>sphere</td>\n",
       "      <td>300</td>\n",
       "      <td>5 minutes</td>\n",
       "      <td>My father is now 89 my brother 52 the girl wit...</td>\n",
       "      <td>4/27/2007</td>\n",
       "      <td>36.5950000</td>\n",
       "      <td>-82.188889</td>\n",
       "    </tr>\n",
       "    <tr>\n",
       "      <th>7</th>\n",
       "      <td>10/10/1965 23:45</td>\n",
       "      <td>norwalk</td>\n",
       "      <td>ct</td>\n",
       "      <td>us</td>\n",
       "      <td>disk</td>\n",
       "      <td>1200</td>\n",
       "      <td>20 minutes</td>\n",
       "      <td>A bright orange color changing to reddish colo...</td>\n",
       "      <td>10/2/1999</td>\n",
       "      <td>41.1175000</td>\n",
       "      <td>-73.408333</td>\n",
       "    </tr>\n",
       "  </tbody>\n",
       "</table>\n",
       "</div>"
      ],
      "text/plain": [
       "           datetime        city state country     shape duration (seconds)  \\\n",
       "0  10/10/1949 20:30  san marcos    tx      us  cylinder               2700   \n",
       "3  10/10/1956 21:00        edna    tx      us    circle                 20   \n",
       "4  10/10/1960 20:00     kaneohe    hi      us     light                900   \n",
       "5  10/10/1961 19:00     bristol    tn      us    sphere                300   \n",
       "7  10/10/1965 23:45     norwalk    ct      us      disk               1200   \n",
       "\n",
       "  duration (hours/min)                                           comments  \\\n",
       "0           45 minutes  This event took place in early fall around 194...   \n",
       "3             1/2 hour  My older brother and twin sister were leaving ...   \n",
       "4           15 minutes  AS a Marine 1st Lt. flying an FJ4B fighter/att...   \n",
       "5            5 minutes  My father is now 89 my brother 52 the girl wit...   \n",
       "7           20 minutes  A bright orange color changing to reddish colo...   \n",
       "\n",
       "  date posted    latitude  longitude   \n",
       "0   4/27/2004  29.8830556  -97.941111  \n",
       "3   1/17/2004  28.9783333  -96.645833  \n",
       "4   1/22/2004  21.4180556 -157.803611  \n",
       "5   4/27/2007  36.5950000  -82.188889  \n",
       "7   10/2/1999  41.1175000  -73.408333  "
      ]
     },
     "execution_count": 13,
     "metadata": {},
     "output_type": "execute_result"
    }
   ],
   "source": [
    "data_with_us.head()"
   ]
  },
  {
   "cell_type": "code",
   "execution_count": 15,
   "metadata": {},
   "outputs": [
    {
     "name": "stdout",
     "output_type": "stream",
     "text": [
      "<class 'pandas.core.frame.DataFrame'>\n",
      "Int64Index: 10000 entries, 0 to 12000\n",
      "Data columns (total 11 columns):\n",
      "datetime                10000 non-null object\n",
      "city                    10000 non-null object\n",
      "state                   10000 non-null object\n",
      "country                 10000 non-null object\n",
      "shape                   9774 non-null object\n",
      "duration (seconds)      10000 non-null object\n",
      "duration (hours/min)    10000 non-null object\n",
      "comments                9999 non-null object\n",
      "date posted             10000 non-null object\n",
      "latitude                10000 non-null object\n",
      "longitude               10000 non-null float64\n",
      "dtypes: float64(1), object(10)\n",
      "memory usage: 546.9+ KB\n"
     ]
    }
   ],
   "source": [
    "data_with_us.info()"
   ]
  },
  {
   "cell_type": "code",
   "execution_count": 29,
   "metadata": {},
   "outputs": [],
   "source": [
    "alcoholic = np.zeros(10000)\n",
    "\n",
    "#in the united states about 30% of people drink alcohol.\n",
    "#we have an observation with 10000 people, so we can think that 3000 of them are alcoholic\n",
    "#choose randomly 3000 elements from the list and renumber them to the 1\n",
    "\n",
    "import random\n",
    "\n",
    "randomized = np.random.randint(0,10000,3000)\n",
    "for i in randomized:\n",
    "    alcoholic[i]=1\n",
    "data_with_us['Alcoholic'] = alcoholic"
   ]
  },
  {
   "cell_type": "code",
   "execution_count": 32,
   "metadata": {},
   "outputs": [],
   "source": [
    "#in the United States 90% have secondary education\n",
    "# 40% of those who has a secondary education have a higher education\n",
    "# 15% of people that get higher education get the PhD\n",
    "\n",
    "secondary_education = np.zeros(10000)\n",
    "higher_education = np.zeros(10000)\n",
    "phd = np.zeros(10000)\n",
    "\n",
    "random_sec = np.random.randint(0,10000,9000)\n",
    "for i in random_sec:\n",
    "    secondary_education[i] = 1\n",
    "data_with_us['Secondary Education'] = secondary_education\n",
    "\n",
    "random_high = random.choices(random_sec,k=3600)\n",
    "for i in random_high:\n",
    "    higher_education[i] = 1\n",
    "data_with_us['Higher Education'] = higher_education\n",
    "\n",
    "random_phd = random.choices(random_high,k=540)\n",
    "for i in random_high:\n",
    "    phd[i] = 1\n",
    "data_with_us['PhD'] = phd"
   ]
  },
  {
   "cell_type": "code",
   "execution_count": 33,
   "metadata": {},
   "outputs": [
    {
     "data": {
      "text/html": [
       "<div>\n",
       "<style scoped>\n",
       "    .dataframe tbody tr th:only-of-type {\n",
       "        vertical-align: middle;\n",
       "    }\n",
       "\n",
       "    .dataframe tbody tr th {\n",
       "        vertical-align: top;\n",
       "    }\n",
       "\n",
       "    .dataframe thead th {\n",
       "        text-align: right;\n",
       "    }\n",
       "</style>\n",
       "<table border=\"1\" class=\"dataframe\">\n",
       "  <thead>\n",
       "    <tr style=\"text-align: right;\">\n",
       "      <th></th>\n",
       "      <th>datetime</th>\n",
       "      <th>city</th>\n",
       "      <th>state</th>\n",
       "      <th>country</th>\n",
       "      <th>shape</th>\n",
       "      <th>duration (seconds)</th>\n",
       "      <th>duration (hours/min)</th>\n",
       "      <th>comments</th>\n",
       "      <th>date posted</th>\n",
       "      <th>latitude</th>\n",
       "      <th>longitude</th>\n",
       "      <th>Alcoholic</th>\n",
       "      <th>Secondary Education</th>\n",
       "      <th>Higher Education</th>\n",
       "      <th>PhD</th>\n",
       "    </tr>\n",
       "  </thead>\n",
       "  <tbody>\n",
       "    <tr>\n",
       "      <th>0</th>\n",
       "      <td>10/10/1949 20:30</td>\n",
       "      <td>san marcos</td>\n",
       "      <td>tx</td>\n",
       "      <td>us</td>\n",
       "      <td>cylinder</td>\n",
       "      <td>2700</td>\n",
       "      <td>45 minutes</td>\n",
       "      <td>This event took place in early fall around 194...</td>\n",
       "      <td>4/27/2004</td>\n",
       "      <td>29.8830556</td>\n",
       "      <td>-97.941111</td>\n",
       "      <td>0.0</td>\n",
       "      <td>0.0</td>\n",
       "      <td>0.0</td>\n",
       "      <td>0.0</td>\n",
       "    </tr>\n",
       "    <tr>\n",
       "      <th>3</th>\n",
       "      <td>10/10/1956 21:00</td>\n",
       "      <td>edna</td>\n",
       "      <td>tx</td>\n",
       "      <td>us</td>\n",
       "      <td>circle</td>\n",
       "      <td>20</td>\n",
       "      <td>1/2 hour</td>\n",
       "      <td>My older brother and twin sister were leaving ...</td>\n",
       "      <td>1/17/2004</td>\n",
       "      <td>28.9783333</td>\n",
       "      <td>-96.645833</td>\n",
       "      <td>1.0</td>\n",
       "      <td>1.0</td>\n",
       "      <td>1.0</td>\n",
       "      <td>1.0</td>\n",
       "    </tr>\n",
       "    <tr>\n",
       "      <th>4</th>\n",
       "      <td>10/10/1960 20:00</td>\n",
       "      <td>kaneohe</td>\n",
       "      <td>hi</td>\n",
       "      <td>us</td>\n",
       "      <td>light</td>\n",
       "      <td>900</td>\n",
       "      <td>15 minutes</td>\n",
       "      <td>AS a Marine 1st Lt. flying an FJ4B fighter/att...</td>\n",
       "      <td>1/22/2004</td>\n",
       "      <td>21.4180556</td>\n",
       "      <td>-157.803611</td>\n",
       "      <td>0.0</td>\n",
       "      <td>0.0</td>\n",
       "      <td>0.0</td>\n",
       "      <td>0.0</td>\n",
       "    </tr>\n",
       "    <tr>\n",
       "      <th>5</th>\n",
       "      <td>10/10/1961 19:00</td>\n",
       "      <td>bristol</td>\n",
       "      <td>tn</td>\n",
       "      <td>us</td>\n",
       "      <td>sphere</td>\n",
       "      <td>300</td>\n",
       "      <td>5 minutes</td>\n",
       "      <td>My father is now 89 my brother 52 the girl wit...</td>\n",
       "      <td>4/27/2007</td>\n",
       "      <td>36.5950000</td>\n",
       "      <td>-82.188889</td>\n",
       "      <td>0.0</td>\n",
       "      <td>0.0</td>\n",
       "      <td>0.0</td>\n",
       "      <td>0.0</td>\n",
       "    </tr>\n",
       "    <tr>\n",
       "      <th>7</th>\n",
       "      <td>10/10/1965 23:45</td>\n",
       "      <td>norwalk</td>\n",
       "      <td>ct</td>\n",
       "      <td>us</td>\n",
       "      <td>disk</td>\n",
       "      <td>1200</td>\n",
       "      <td>20 minutes</td>\n",
       "      <td>A bright orange color changing to reddish colo...</td>\n",
       "      <td>10/2/1999</td>\n",
       "      <td>41.1175000</td>\n",
       "      <td>-73.408333</td>\n",
       "      <td>0.0</td>\n",
       "      <td>1.0</td>\n",
       "      <td>0.0</td>\n",
       "      <td>0.0</td>\n",
       "    </tr>\n",
       "  </tbody>\n",
       "</table>\n",
       "</div>"
      ],
      "text/plain": [
       "           datetime        city state country     shape duration (seconds)  \\\n",
       "0  10/10/1949 20:30  san marcos    tx      us  cylinder               2700   \n",
       "3  10/10/1956 21:00        edna    tx      us    circle                 20   \n",
       "4  10/10/1960 20:00     kaneohe    hi      us     light                900   \n",
       "5  10/10/1961 19:00     bristol    tn      us    sphere                300   \n",
       "7  10/10/1965 23:45     norwalk    ct      us      disk               1200   \n",
       "\n",
       "  duration (hours/min)                                           comments  \\\n",
       "0           45 minutes  This event took place in early fall around 194...   \n",
       "3             1/2 hour  My older brother and twin sister were leaving ...   \n",
       "4           15 minutes  AS a Marine 1st Lt. flying an FJ4B fighter/att...   \n",
       "5            5 minutes  My father is now 89 my brother 52 the girl wit...   \n",
       "7           20 minutes  A bright orange color changing to reddish colo...   \n",
       "\n",
       "  date posted    latitude  longitude   Alcoholic  Secondary Education  \\\n",
       "0   4/27/2004  29.8830556  -97.941111        0.0                  0.0   \n",
       "3   1/17/2004  28.9783333  -96.645833        1.0                  1.0   \n",
       "4   1/22/2004  21.4180556 -157.803611        0.0                  0.0   \n",
       "5   4/27/2007  36.5950000  -82.188889        0.0                  0.0   \n",
       "7   10/2/1999  41.1175000  -73.408333        0.0                  1.0   \n",
       "\n",
       "   Higher Education  PhD  \n",
       "0               0.0  0.0  \n",
       "3               1.0  1.0  \n",
       "4               0.0  0.0  \n",
       "5               0.0  0.0  \n",
       "7               0.0  0.0  "
      ]
     },
     "execution_count": 33,
     "metadata": {},
     "output_type": "execute_result"
    }
   ],
   "source": [
    "data_with_us.head()"
   ]
  },
  {
   "cell_type": "code",
   "execution_count": 40,
   "metadata": {},
   "outputs": [],
   "source": [
    "dictionary_years = {'2000':0,'2004':0,'2012':0,'2014':0,'2006':0,'2009':0,'2001':0,'2008':0,'2003':0,\n",
    "                   '1998':0,'2005':0,'1999':0,'2013':0,'2010':0,'2002':0,'2007':0,'2011':0}\n",
    "month = {'1':0,'2':0,'3':0,'4':0,'5':0,'6':0,'7':0,'8':0,'9':0,'10':0,'11':0,'12':0}\n",
    "years = []\n",
    "for i in data_with_us['date posted']:\n",
    "    m,d,y =  i.split('/')\n",
    "    dictionary_years[y] = dictionary_years[y]+1\n",
    "    month[m] = month[m]+1"
   ]
  },
  {
   "cell_type": "code",
   "execution_count": 58,
   "metadata": {},
   "outputs": [
    {
     "name": "stdout",
     "output_type": "stream",
     "text": [
      "[367, 544, 996, 179, 527, 736, 408, 525, 651, 155, 701, 750, 1036, 548, 497, 582, 798]\n"
     ]
    },
    {
     "data": {
      "text/plain": [
       "Text(0, 0.5, 'Number of observation')"
      ]
     },
     "execution_count": 58,
     "metadata": {},
     "output_type": "execute_result"
    },
    {
     "data": {
      "image/png": "[encoded data removed]",
      "text/plain": [
       "<Figure size 1080x720 with 1 Axes>"
      ]
     },
     "metadata": {
      "needs_background": "light"
     },
     "output_type": "display_data"
    }
   ],
   "source": [
    "x = []\n",
    "for key in dictionary_years:\n",
    "    x.append(int(key))\n",
    "x_ = sorted(x)\n",
    "y_ = []\n",
    "for i in x:\n",
    "    y_.append(dictionary_years[str(i)])\n",
    "plt.figure(figsize=(15,10))\n",
    "sns.barplot(x=x_, y=y_)\n",
    "plt.xlabel('Years')\n",
    "plt.ylabel('Number of observation')"
   ]
  },
  {
   "cell_type": "code",
   "execution_count": 61,
   "metadata": {
    "scrolled": true
   },
   "outputs": [
    {
     "name": "stdout",
     "output_type": "stream",
     "text": [
      "[1020, 509, 290, 199, 184, 133, 126, 203, 155, 2787, 2762, 1632]\n"
     ]
    },
    {
     "data": {
      "text/plain": [
       "Text(0, 0.5, 'Number of observation')"
      ]
     },
     "execution_count": 61,
     "metadata": {},
     "output_type": "execute_result"
    },
    {
     "data": {
      "image/png": "[encoded data removed]",
      "text/plain": [
       "<Figure size 1080x720 with 1 Axes>"
      ]
     },
     "metadata": {
      "needs_background": "light"
     },
     "output_type": "display_data"
    }
   ],
   "source": [
    "x = []\n",
    "for key in month:\n",
    "    x.append(int(key))\n",
    "x_ = sorted(x)\n",
    "y_ = []\n",
    "for i in x:\n",
    "    y_.append(month[str(i)])\n",
    "plt.figure(figsize=(15,10))\n",
    "sns.barplot(x=x_, y=y_)\n",
    "plt.xlabel('Month')\n",
    "plt.ylabel('Number of observation')"
   ]
  },
  {
   "cell_type": "code",
   "execution_count": 84,
   "metadata": {
    "scrolled": true
   },
   "outputs": [],
   "source": [
    "x = list(set(data['shape']))"
   ]
  },
  {
   "cell_type": "code",
   "execution_count": 86,
   "metadata": {},
   "outputs": [],
   "source": [
    "def update_lists(i,name,x,y_alc,y_not_alc,y_sec,y_not_sec,y_high,y_not_high,y_phd,y_not_phd):\n",
    "    number = x.index(name)\n",
    "    \n",
    "    if list(data_with_us['Alcoholic'])[i] == 1:\n",
    "        y_alc[number] += 1\n",
    "    else:\n",
    "        y_not_alc[number] -= 1\n",
    "        \n",
    "    if list(data_with_us['Secondary Education'])[i] == 1:\n",
    "        y_sec[number] += 1\n",
    "    else:\n",
    "        y_not_sec[number] -= 1\n",
    "        \n",
    "    if list(data_with_us['Higher Education'])[i] == 1:\n",
    "        y_high[number] += 1\n",
    "    else:\n",
    "        y_not_high[number] -= 1\n",
    "        \n",
    "    if list(data_with_us['PhD'])[i] == 1:\n",
    "        y_phd[number] += 1\n",
    "    else:\n",
    "        y_not_phd[number] -= 1\n",
    "    \n",
    "    return y_alc,y_not_alc,y_sec,y_not_sec,y_high,y_not_high,y_phd,y_not_phd"
   ]
  },
  {
   "cell_type": "code",
   "execution_count": 88,
   "metadata": {},
   "outputs": [],
   "source": [
    "y_alc = np.zeros(30)\n",
    "y_not_alc = np.zeros(30)\n",
    "y_sec = np.zeros(30)\n",
    "y_not_sec = np.zeros(30)\n",
    "y_high = np.zeros(30)\n",
    "y_not_high = np.zeros(30)\n",
    "y_phd = np.zeros(30)\n",
    "y_not_phd = np.zeros(30)\n",
    "\n",
    "for i in range(10000):\n",
    "    y_alc,y_not_alc,y_sec,y_not_sec,y_high,y_not_high,y_phd,y_not_phd = update_lists(i,list(data_with_us['shape'])[i],x,\n",
    "                                                                                    y_alc,y_not_alc,y_sec,y_not_sec,\n",
    "                                                                                    y_high,y_not_high,y_phd,y_not_phd)"
   ]
  },
  {
   "cell_type": "code",
   "execution_count": 100,
   "metadata": {},
   "outputs": [
    {
     "data": {
      "text/plain": [
       "Text(0.5, 0, 'Shape')"
      ]
     },
     "execution_count": 100,
     "metadata": {},
     "output_type": "execute_result"
    },
    {
     "data": {
      "image/png": "[encoded data removed]",
      "text/plain": [
       "<Figure size 1080x1080 with 1 Axes>"
      ]
     },
     "metadata": {
      "needs_background": "light"
     },
     "output_type": "display_data"
    }
   ],
   "source": [
    "plt.figure(figsize=(15,15))\n",
    "plt.title(\"Dependence between the 'shape' and alcogolism. Above zero alcoholic, low zero not alcoholic\")\n",
    "sns.barplot(x=x, y=y_alc)\n",
    "sns.barplot(x=x, y=y_not_alc)\n",
    "plt.xticks(rotation= 90)\n",
    "plt.ylabel('Number of observation')\n",
    "plt.xlabel('Shape')\n"
   ]
  },
  {
   "cell_type": "code",
   "execution_count": 101,
   "metadata": {},
   "outputs": [
    {
     "data": {
      "text/plain": [
       "Text(0.5, 0, 'Shape')"
      ]
     },
     "execution_count": 101,
     "metadata": {},
     "output_type": "execute_result"
    },
    {
     "data": {
      "image/png": "[encoded data removed]",
      "text/plain": [
       "<Figure size 1080x1080 with 1 Axes>"
      ]
     },
     "metadata": {
      "needs_background": "light"
     },
     "output_type": "display_data"
    }
   ],
   "source": [
    "plt.figure(figsize=(15,15))\n",
    "plt.title(\"Dependence between the 'shape' and secondary education. Above zero with education, low zero without\")\n",
    "sns.barplot(x=x, y=y_sec)\n",
    "sns.barplot(x=x, y=y_not_sec)\n",
    "plt.xticks(rotation= 90)\n",
    "plt.ylabel('Number of observation')\n",
    "plt.xlabel('Shape')"
   ]
  },
  {
   "cell_type": "code",
   "execution_count": 103,
   "metadata": {},
   "outputs": [
    {
     "data": {
      "text/plain": [
       "Text(0.5, 0, 'Shape')"
      ]
     },
     "execution_count": 103,
     "metadata": {},
     "output_type": "execute_result"
    },
    {
     "data": {
      "image/png": "[encoded data removed]",
      "text/plain": [
       "<Figure size 1080x1080 with 1 Axes>"
      ]
     },
     "metadata": {
      "needs_background": "light"
     },
     "output_type": "display_data"
    }
   ],
   "source": [
    "plt.figure(figsize=(15,15))\n",
    "plt.title(\"Dependence between the 'shape' and higher education. Above zero with education, low zero without\")\n",
    "sns.barplot(x=x, y=y_high)\n",
    "sns.barplot(x=x, y=y_not_high)\n",
    "plt.xticks(rotation= 90)\n",
    "plt.ylabel('Number of observation')\n",
    "plt.xlabel('Shape')"
   ]
  },
  {
   "cell_type": "code",
   "execution_count": 104,
   "metadata": {},
   "outputs": [
    {
     "data": {
      "text/plain": [
       "Text(0.5, 0, 'Shape')"
      ]
     },
     "execution_count": 104,
     "metadata": {},
     "output_type": "execute_result"
    },
    {
     "data": {
      "image/png": "[encoded data removed]",
      "text/plain": [
       "<Figure size 1080x1080 with 1 Axes>"
      ]
     },
     "metadata": {
      "needs_background": "light"
     },
     "output_type": "display_data"
    }
   ],
   "source": [
    "plt.figure(figsize=(15,15))\n",
    "plt.title(\"Dependence between the 'shape' and PhD. Above zero with PhD, low zero without\")\n",
    "sns.barplot(x=x, y=y_phd)\n",
    "sns.barplot(x=x, y=y_not_phd)\n",
    "plt.xticks(rotation= 90)\n",
    "plt.ylabel('Number of observation')\n",
    "plt.xlabel('Shape')"
   ]
  },
  {
   "cell_type": "code",
   "execution_count": 106,
   "metadata": {},
   "outputs": [
    {
     "data": {
      "text/html": [
       "<div>\n",
       "<style scoped>\n",
       "    .dataframe tbody tr th:only-of-type {\n",
       "        vertical-align: middle;\n",
       "    }\n",
       "\n",
       "    .dataframe tbody tr th {\n",
       "        vertical-align: top;\n",
       "    }\n",
       "\n",
       "    .dataframe thead th {\n",
       "        text-align: right;\n",
       "    }\n",
       "</style>\n",
       "<table border=\"1\" class=\"dataframe\">\n",
       "  <thead>\n",
       "    <tr style=\"text-align: right;\">\n",
       "      <th></th>\n",
       "      <th>datetime</th>\n",
       "      <th>city</th>\n",
       "      <th>state</th>\n",
       "      <th>country</th>\n",
       "      <th>shape</th>\n",
       "      <th>duration (seconds)</th>\n",
       "      <th>duration (hours/min)</th>\n",
       "      <th>comments</th>\n",
       "      <th>date posted</th>\n",
       "      <th>latitude</th>\n",
       "      <th>longitude</th>\n",
       "      <th>Alcoholic</th>\n",
       "      <th>Secondary Education</th>\n",
       "      <th>Higher Education</th>\n",
       "      <th>PhD</th>\n",
       "    </tr>\n",
       "  </thead>\n",
       "  <tbody>\n",
       "    <tr>\n",
       "      <th>0</th>\n",
       "      <td>10/10/1949 20:30</td>\n",
       "      <td>san marcos</td>\n",
       "      <td>tx</td>\n",
       "      <td>us</td>\n",
       "      <td>cylinder</td>\n",
       "      <td>2700</td>\n",
       "      <td>45 minutes</td>\n",
       "      <td>This event took place in early fall around 194...</td>\n",
       "      <td>4/27/2004</td>\n",
       "      <td>29.8830556</td>\n",
       "      <td>-97.941111</td>\n",
       "      <td>0.0</td>\n",
       "      <td>0.0</td>\n",
       "      <td>0.0</td>\n",
       "      <td>0.0</td>\n",
       "    </tr>\n",
       "    <tr>\n",
       "      <th>3</th>\n",
       "      <td>10/10/1956 21:00</td>\n",
       "      <td>edna</td>\n",
       "      <td>tx</td>\n",
       "      <td>us</td>\n",
       "      <td>circle</td>\n",
       "      <td>20</td>\n",
       "      <td>1/2 hour</td>\n",
       "      <td>My older brother and twin sister were leaving ...</td>\n",
       "      <td>1/17/2004</td>\n",
       "      <td>28.9783333</td>\n",
       "      <td>-96.645833</td>\n",
       "      <td>1.0</td>\n",
       "      <td>1.0</td>\n",
       "      <td>1.0</td>\n",
       "      <td>1.0</td>\n",
       "    </tr>\n",
       "    <tr>\n",
       "      <th>4</th>\n",
       "      <td>10/10/1960 20:00</td>\n",
       "      <td>kaneohe</td>\n",
       "      <td>hi</td>\n",
       "      <td>us</td>\n",
       "      <td>light</td>\n",
       "      <td>900</td>\n",
       "      <td>15 minutes</td>\n",
       "      <td>AS a Marine 1st Lt. flying an FJ4B fighter/att...</td>\n",
       "      <td>1/22/2004</td>\n",
       "      <td>21.4180556</td>\n",
       "      <td>-157.803611</td>\n",
       "      <td>0.0</td>\n",
       "      <td>0.0</td>\n",
       "      <td>0.0</td>\n",
       "      <td>0.0</td>\n",
       "    </tr>\n",
       "    <tr>\n",
       "      <th>5</th>\n",
       "      <td>10/10/1961 19:00</td>\n",
       "      <td>bristol</td>\n",
       "      <td>tn</td>\n",
       "      <td>us</td>\n",
       "      <td>sphere</td>\n",
       "      <td>300</td>\n",
       "      <td>5 minutes</td>\n",
       "      <td>My father is now 89 my brother 52 the girl wit...</td>\n",
       "      <td>4/27/2007</td>\n",
       "      <td>36.5950000</td>\n",
       "      <td>-82.188889</td>\n",
       "      <td>0.0</td>\n",
       "      <td>0.0</td>\n",
       "      <td>0.0</td>\n",
       "      <td>0.0</td>\n",
       "    </tr>\n",
       "    <tr>\n",
       "      <th>7</th>\n",
       "      <td>10/10/1965 23:45</td>\n",
       "      <td>norwalk</td>\n",
       "      <td>ct</td>\n",
       "      <td>us</td>\n",
       "      <td>disk</td>\n",
       "      <td>1200</td>\n",
       "      <td>20 minutes</td>\n",
       "      <td>A bright orange color changing to reddish colo...</td>\n",
       "      <td>10/2/1999</td>\n",
       "      <td>41.1175000</td>\n",
       "      <td>-73.408333</td>\n",
       "      <td>0.0</td>\n",
       "      <td>1.0</td>\n",
       "      <td>0.0</td>\n",
       "      <td>0.0</td>\n",
       "    </tr>\n",
       "  </tbody>\n",
       "</table>\n",
       "</div>"
      ],
      "text/plain": [
       "           datetime        city state country     shape duration (seconds)  \\\n",
       "0  10/10/1949 20:30  san marcos    tx      us  cylinder               2700   \n",
       "3  10/10/1956 21:00        edna    tx      us    circle                 20   \n",
       "4  10/10/1960 20:00     kaneohe    hi      us     light                900   \n",
       "5  10/10/1961 19:00     bristol    tn      us    sphere                300   \n",
       "7  10/10/1965 23:45     norwalk    ct      us      disk               1200   \n",
       "\n",
       "  duration (hours/min)                                           comments  \\\n",
       "0           45 minutes  This event took place in early fall around 194...   \n",
       "3             1/2 hour  My older brother and twin sister were leaving ...   \n",
       "4           15 minutes  AS a Marine 1st Lt. flying an FJ4B fighter/att...   \n",
       "5            5 minutes  My father is now 89 my brother 52 the girl wit...   \n",
       "7           20 minutes  A bright orange color changing to reddish colo...   \n",
       "\n",
       "  date posted    latitude  longitude   Alcoholic  Secondary Education  \\\n",
       "0   4/27/2004  29.8830556  -97.941111        0.0                  0.0   \n",
       "3   1/17/2004  28.9783333  -96.645833        1.0                  1.0   \n",
       "4   1/22/2004  21.4180556 -157.803611        0.0                  0.0   \n",
       "5   4/27/2007  36.5950000  -82.188889        0.0                  0.0   \n",
       "7   10/2/1999  41.1175000  -73.408333        0.0                  1.0   \n",
       "\n",
       "   Higher Education  PhD  \n",
       "0               0.0  0.0  \n",
       "3               1.0  1.0  \n",
       "4               0.0  0.0  \n",
       "5               0.0  0.0  \n",
       "7               0.0  0.0  "
      ]
     },
     "execution_count": 106,
     "metadata": {},
     "output_type": "execute_result"
    }
   ],
   "source": [
    "data_with_us.head()"
   ]
  },
  {
   "cell_type": "code",
   "execution_count": 110,
   "metadata": {},
   "outputs": [
    {
     "data": {
      "text/plain": [
       "['11/16/2011', '04:09']"
      ]
     },
     "execution_count": 110,
     "metadata": {},
     "output_type": "execute_result"
    }
   ],
   "source": [
    "data['datetime'][i].split()"
   ]
  },
  {
   "cell_type": "code",
   "execution_count": 148,
   "metadata": {},
   "outputs": [],
   "source": [
    "def alc_or_not(i):\n",
    "    is_alc = False\n",
    "    if list(data_with_us['Alcoholic'])[i] == 1:\n",
    "        is_alc = True\n",
    "    return is_alc"
   ]
  },
  {
   "cell_type": "code",
   "execution_count": 149,
   "metadata": {},
   "outputs": [],
   "source": [
    "def update_time(time,time_list,time_list_,i):\n",
    "    if time>'00.00' and time<='01.00':\n",
    "        if alc_or_not(i):\n",
    "            time_list[0] +=1\n",
    "        else:\n",
    "            time_list_[0] -=1\n",
    "    elif time > '01.00' and time <= '02.00':\n",
    "        if alc_or_not(i):\n",
    "            time_list[1] +=1\n",
    "        else:\n",
    "            time_list_[1] -=1\n",
    "    elif time > '02.00' and time <= '03.00':\n",
    "        if alc_or_not(i):\n",
    "            time_list[2] +=1\n",
    "        else:\n",
    "            time_list_[2] -=1\n",
    "    elif time > '03.00' and time <= '04.00':\n",
    "        if alc_or_not(i):\n",
    "            time_list[3] +=1\n",
    "        else:\n",
    "            time_list_[3] -=1\n",
    "    elif time > '04.00' and time <= '05.00':\n",
    "        if alc_or_not(i):\n",
    "            time_list[4] +=1\n",
    "        else:\n",
    "            time_list_[4] -=1\n",
    "    elif time > '05.00' and time <= '06.00':\n",
    "        if alc_or_not(i):\n",
    "            time_list[5] +=1\n",
    "        else:\n",
    "            time_list_[5] -=1\n",
    "    elif time > '06.00' and time <= '07.00':\n",
    "        if alc_or_not(i):\n",
    "            time_list[6] +=1\n",
    "        else:\n",
    "            time_list_[6] -=1\n",
    "    elif time > '07.00' and time <= '08.00':\n",
    "        if alc_or_not(i):\n",
    "            time_list[7] +=1\n",
    "        else:\n",
    "            time_list_[7] -=1\n",
    "    elif time > '08.00' and time <= '09.00':\n",
    "        if alc_or_not(i):\n",
    "            time_list[8] +=1\n",
    "        else:\n",
    "            time_list_[8] -=1\n",
    "    elif time > '10.00' and time <= '11.00':\n",
    "        if alc_or_not(i):\n",
    "            time_list[9] +=1\n",
    "        else:\n",
    "            time_list_[9] -=1\n",
    "    elif time > '11.00' and time <= '12.00':\n",
    "        if alc_or_not(i):\n",
    "            time_list[10] +=1\n",
    "        else:\n",
    "            time_list_[10] -=1\n",
    "    elif time > '12.00' and time <= '13.00':\n",
    "        if alc_or_not(i):\n",
    "            time_list[11] +=1\n",
    "        else:\n",
    "            time_list_[11] -=1\n",
    "    elif time > '13.00' and time <= '14.00':\n",
    "        if alc_or_not(i):\n",
    "            time_list[12] +=1\n",
    "        else:\n",
    "            time_list_[12] -=1\n",
    "    elif time > '14.00' and time <= '15.00':\n",
    "        if alc_or_not(i):\n",
    "            time_list[13] +=1\n",
    "        else:\n",
    "            time_list_[13] -=1\n",
    "    elif time > '15.00' and time <= '16.00':\n",
    "        if alc_or_not(i):\n",
    "            time_list[14] +=1\n",
    "        else:\n",
    "            time_list_[14] -=1\n",
    "    elif time > '16.00' and time <= '17.00':\n",
    "        if alc_or_not(i):\n",
    "            time_list[15] +=1\n",
    "        else:\n",
    "            time_list_[15] -=1\n",
    "    elif time > '17.00' and time <= '18.00':\n",
    "        if alc_or_not(i):\n",
    "            time_list[16] +=1\n",
    "        else:\n",
    "            time_list_[16] -=1\n",
    "    elif time > '18.00' and time <= '19.00':\n",
    "        if alc_or_not(i):\n",
    "            time_list[17] +=1\n",
    "        else:\n",
    "            time_list_[17] -=1\n",
    "    elif time > '19.00' and time <= '20.00':\n",
    "        if alc_or_not(i):\n",
    "            time_list[18] +=1\n",
    "        else:\n",
    "            time_list_[18] -=1\n",
    "    elif time > '21.00' and time <= '22.00':\n",
    "        if alc_or_not(i):\n",
    "            time_list[19] +=1\n",
    "        else:\n",
    "            time_list_[19] -=1\n",
    "    elif time > '22.00' and time <= '23.00':\n",
    "        if alc_or_not(i):\n",
    "            time_list[20] +=1\n",
    "        else:\n",
    "            time_list_[20] -=1\n",
    "    elif time > '23.00' and time <= '00.00':\n",
    "        if alc_or_not(i):\n",
    "            time_list[21] +=1\n",
    "        else:\n",
    "            time_list_[21] -=11\n",
    "    else:\n",
    "        pass\n",
    "    return time_list,time_list_"
   ]
  },
  {
   "cell_type": "code",
   "execution_count": 150,
   "metadata": {},
   "outputs": [],
   "source": [
    "alc_times = np.zeros(21)\n",
    "alc_times_ = np.zeros(21)\n",
    "for i in range(10000):\n",
    "    alc_times, alc_times_ = update_time(list(data_with_us['datetime'])[i].split()[1],alc_times,alc_times_,i)"
   ]
  },
  {
   "cell_type": "code",
   "execution_count": 152,
   "metadata": {},
   "outputs": [
    {
     "data": {
      "text/plain": [
       "Text(0.5, 0, 'Hours')"
      ]
     },
     "execution_count": 152,
     "metadata": {},
     "output_type": "execute_result"
    },
    {
     "data": {
      "image/png": "[encoded data removed]",
      "text/plain": [
       "<Figure size 1080x1080 with 1 Axes>"
      ]
     },
     "metadata": {},
     "output_type": "display_data"
    }
   ],
   "source": [
    "plt.figure(figsize=(15,15))\n",
    "plt.title(\"Number of observation for each hours. Above zero alcoholics, low zero not alcoholics\")\n",
    "sns.set(style=\"whitegrid\")\n",
    "sns.barplot(x=x,y=alc_times)\n",
    "sns.barplot(x=x,y=alc_times_)\n",
    "plt.xticks(rotation= 90)\n",
    "plt.ylabel('Number of observation')\n",
    "plt.xlabel('Hours')"
   ]
  },
  {
   "cell_type": "code",
   "execution_count": null,
   "metadata": {},
   "outputs": [],
   "source": []
  }
 ],
 "metadata": {
  "kernelspec": {
   "display_name": "Python 3",
   "language": "python",
   "name": "python3"
  },
  "language_info": {
   "codemirror_mode": {
    "name": "ipython",
    "version": 3
   },
   "file_extension": ".py",
   "mimetype": "text/x-python",
   "name": "python",
   "nbconvert_exporter": "python",
   "pygments_lexer": "ipython3",
   "version": "3.7.2"
  }
 },
 "nbformat": 4,
 "nbformat_minor": 2
}
